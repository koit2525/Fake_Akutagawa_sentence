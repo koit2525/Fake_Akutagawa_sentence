{
  "nbformat": 4,
  "nbformat_minor": 0,
  "metadata": {
    "colab": {
      "name": "FakeAkutagawaNovel.ipynb",
      "provenance": [],
      "machine_shape": "hm",
      "authorship_tag": "ABX9TyNbNTFOu4jzzS2BU/7Plg8C"
    },
    "kernelspec": {
      "name": "python3",
      "display_name": "Python 3"
    },
    "language_info": {
      "name": "python"
    },
    "accelerator": "GPU",
    "gpuClass": "standard"
  },
  "cells": [
    {
      "cell_type": "markdown",
      "source": [
        "## GPT-2を芥川龍之介の作品を用いてファインチューニングする"
      ],
      "metadata": {
        "id": "7rM9rAq3QD0f"
      }
    },
    {
      "cell_type": "code",
      "execution_count": null,
      "metadata": {
        "id": "NxRfEQu-rBo_"
      },
      "outputs": [],
      "source": [
        "# Google Driveをマウントと作業用ディレクトリ作成\n",
        "from google.colab import drive \n",
        "drive.mount('/content/drive')\n",
        "!mkdir -p '/content/drive/My Drive/work/'\n",
        "# ファインチューニングした結果を保存するためのディレクトリ作成\n",
        "!mkdir -p '/content/drive/MyDrive/work/output/'\n",
        "%cd '/content/drive/My Drive/work/'"
      ]
    },
    {
      "cell_type": "code",
      "source": [
        "# 学習データをダウンロード\n",
        "!wget https://raw.githubusercontent.com/koit2525/Fake_Akutagawa_sentence/main/train.txt"
      ],
      "metadata": {
        "id": "CtgNCReL3o_-"
      },
      "execution_count": null,
      "outputs": []
    },
    {
      "cell_type": "code",
      "source": [
        "# transformersをインストール\n",
        "!pip install git+https://github.com/huggingface/transformers\n",
        "# rinna/japanese-gpt2-mediumのトークナイザーはsentencepieceなのでsentencepieceもインストール\n",
        "!pip install folium==0.2.1\n",
        "!pip install sentencepiece\n",
        "!pip install datasets"
      ],
      "metadata": {
        "id": "Iv3QOFznsEs1"
      },
      "execution_count": null,
      "outputs": []
    },
    {
      "cell_type": "code",
      "source": [
        "# ファインチューニングにrun_clm.py利用するので、transformaersをダウンロード\n",
        "!git clone https://github.com/huggingface/transformers"
      ],
      "metadata": {
        "id": "Cs2ncHBcsF41"
      },
      "execution_count": null,
      "outputs": []
    },
    {
      "cell_type": "code",
      "source": [
        "from transformers import AutoModelForCausalLM, AutoTokenizer\n",
        "tokenizer = AutoTokenizer.from_pretrained(\"rinna/japanese-gpt2-medium\")\n",
        "tokenizer.do_lower_case = True\n",
        "model = AutoModelForCausalLM.from_pretrained(\"rinna/japanese-gpt2-medium\")"
      ],
      "metadata": {
        "id": "c5ZNKaKotFVN"
      },
      "execution_count": null,
      "outputs": []
    },
    {
      "cell_type": "code",
      "source": [
        "# 学習データを用いてファインチューニングを実施\n",
        "!python ./transformers/examples/pytorch/language-modeling/run_clm.py \\\n",
        "    --model_name_or_path=rinna/japanese-gpt2-medium \\\n",
        "    --train_file=/content/drive/MyDrive/work/train.txt \\\n",
        "    --validation_file=/content/drive/MyDrive/work/train.txt \\\n",
        "    --do_train \\\n",
        "    --do_eval \\\n",
        "    --num_train_epochs=10 \\\n",
        "    --save_steps=10000 \\\n",
        "    --save_total_limit=3 \\\n",
        "    --per_device_train_batch_size=1 \\\n",
        "    --per_device_eval_batch_size=1 \\\n",
        "    --output_dir=/content/drive/MyDrive/work/output/ \\\n",
        "    --use_fast_tokenizer=False"
      ],
      "metadata": {
        "id": "X30ERybbv-BW"
      },
      "execution_count": null,
      "outputs": []
    },
    {
      "cell_type": "markdown",
      "source": [
        "## ファインチューニングしたモデルを利用して文章を生成する"
      ],
      "metadata": {
        "id": "7kBKYnWqyFm8"
      }
    },
    {
      "cell_type": "code",
      "source": [
        "import torch\n",
        "device = torch.device(\"cuda\" if torch.cuda.is_available() else \"cpu\")\n",
        "\n",
        "# ファインチューニングしたモデルを読み込む\n",
        "model = AutoModelForCausalLM.from_pretrained(\"/content/drive/MyDrive/work/output\")\n",
        "model.to(device)\n",
        "model.eval()"
      ],
      "metadata": {
        "id": "X0rHLpl7tYD-"
      },
      "execution_count": null,
      "outputs": []
    },
    {
      "cell_type": "code",
      "source": [
        "# 生成文の文頭となる文章\n",
        "input_texts = [\"ある日の暮方の事である。\", \"ある日の事でございます。\", \"僕の将来に対する唯ぼんやりとした不安\",]\n",
        "\n",
        "for text in input_texts:\n",
        "  input_ids = tokenizer.encode(text, return_tensors='pt').to(device)\n",
        "  out = model.generate(input_ids, do_sample=True, min_length=100, max_length=400, pad_token_id=tokenizer.eos_token_id)\n",
        "  sent = tokenizer.batch_decode(out)[0]\n",
        "  sent = sent.replace('</s>', '')\n",
        "  sent = sent.replace('<unk>', '')\n",
        "  sent = sent.replace('。', '。\\n')\n",
        "  print(f\"-------「{text}」から生成した芥川龍之介風文章-------\")\n",
        "  print(f\"{sent.strip()}\\n\")"
      ],
      "metadata": {
        "id": "O7GYwDMetcVa"
      },
      "execution_count": null,
      "outputs": []
    }
  ]
}