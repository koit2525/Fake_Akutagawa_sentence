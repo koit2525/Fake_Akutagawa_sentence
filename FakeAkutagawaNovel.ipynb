{
  "nbformat": 4,
  "nbformat_minor": 0,
  "metadata": {
    "colab": {
      "name": "FakeAkutagawaNovel.ipynb",
      "provenance": [],
      "machine_shape": "hm",
      "mount_file_id": "1yqQBEP3E6Xgmb8VYH1rWMpHErQoPTPm5",
      "authorship_tag": "ABX9TyM4mw3+9AS3hKiaClUvjDXb"
    },
    "kernelspec": {
      "name": "python3",
      "display_name": "Python 3"
    },
    "language_info": {
      "name": "python"
    },
    "accelerator": "GPU",
    "gpuClass": "standard"
  },
  "cells": [
    {
      "cell_type": "code",
      "execution_count": null,
      "metadata": {
        "id": "NxRfEQu-rBo_"
      },
      "outputs": [],
      "source": [
        "# Google Driveをマウントと作業用ディレクトリ作成\n",
        "from google.colab import drive \n",
        "drive.mount('/content/drive')\n",
        "!mkdir -p '/content/drive/My Drive/work/'\n",
        "# ファインチューニングした結果を保存するためのディレクトリ作成\n",
        "!mkdir -p '/content/drive/MyDrive/work/output/'\n",
        "%cd '/content/drive/My Drive/work/'"
      ]
    },
    {
      "cell_type": "code",
      "source": [
        "# transformersをインストール\n",
        "!pip install git+https://github.com/huggingface/transformers\n",
        "# rinna/japanese-gpt2-mediumのトークナイザーはsentencepieceなのでsentencepieceもインストール\n",
        "!pip install folium==0.2.1\n",
        "!pip install sentencepiece\n",
        "!pip install datasets"
      ],
      "metadata": {
        "id": "Iv3QOFznsEs1"
      },
      "execution_count": null,
      "outputs": []
    },
    {
      "cell_type": "code",
      "source": [
        "# ファインチューニングにrun_clm.py利用するので、transformaersをダウンロード\n",
        "!git clone https://github.com/huggingface/transformers"
      ],
      "metadata": {
        "id": "Cs2ncHBcsF41"
      },
      "execution_count": null,
      "outputs": []
    },
    {
      "cell_type": "code",
      "source": [
        "from transformers import AutoModelForCausalLM, AutoTokenizer\n",
        "tokenizer = AutoTokenizer.from_pretrained(\"rinna/japanese-gpt2-medium\")\n",
        "tokenizer.do_lower_case = True\n",
        "model = AutoModelForCausalLM.from_pretrained(\"rinna/japanese-gpt2-medium\")"
      ],
      "metadata": {
        "id": "c5ZNKaKotFVN"
      },
      "execution_count": null,
      "outputs": []
    },
    {
      "cell_type": "code",
      "source": [
        "!python ./transformers/examples/pytorch/language-modeling/run_clm.py \\\n",
        "    --model_name_or_path=rinna/japanese-gpt2-medium \\\n",
        "    --train_file=/content/drive/MyDrive/work/train.txt \\\n",
        "    --validation_file=/content/drive/MyDrive/work/train.txt \\\n",
        "    --do_train \\\n",
        "    --do_eval \\\n",
        "    --num_train_epochs=10 \\\n",
        "    --save_steps=10000 \\\n",
        "    --save_total_limit=3 \\\n",
        "    --per_device_train_batch_size=1 \\\n",
        "    --per_device_eval_batch_size=1 \\\n",
        "    --output_dir=/content/drive/MyDrive/work/output/ \\\n",
        "    --use_fast_tokenizer=False"
      ],
      "metadata": {
        "id": "X30ERybbv-BW"
      },
      "execution_count": null,
      "outputs": []
    },
    {
      "cell_type": "code",
      "source": [
        "import torch\n",
        "from transformers import AutoModelForCausalLM, AutoTokenizer\n",
        "device = torch.device(\"cuda\" if torch.cuda.is_available() else \"cpu\")\n",
        "\n",
        "tokenizer = AutoTokenizer.from_pretrained(\"rinna/japanese-gpt2-medium\")\n",
        "tokenizer.do_lower_case = True\n",
        "model = AutoModelForCausalLM.from_pretrained(\"/content/drive/MyDrive/work/output\")\n",
        "model.to(device)\n",
        "model.eval()"
      ],
      "metadata": {
        "id": "X0rHLpl7tYD-"
      },
      "execution_count": null,
      "outputs": []
    },
    {
      "cell_type": "code",
      "source": [
        "input_text = \"ある日の暮方の事である。\"\n",
        "num_gen = 1\n",
        "input_ids = tokenizer.encode(input_text, return_tensors='pt').to(device)\n",
        "out = model.generate(input_ids, do_sample=True, min_length=100, max_length=400, pad_token_id=tokenizer.eos_token_id)\n",
        "sent = tokenizer.batch_decode(out)[0]\n",
        "sent = sent.replace('</s>', '')\n",
        "sent = sent.replace('<unk>', '')\n",
        "sent = sent.replace('。', '。\\n')\n",
        "print(sent.strip())"
      ],
      "metadata": {
        "colab": {
          "base_uri": "https://localhost:8080/"
        },
        "id": "O7GYwDMetcVa",
        "outputId": "3b32f74d-7f0a-4141-e7f4-d13a31a18ded"
      },
      "execution_count": null,
      "outputs": [
        {
          "output_type": "stream",
          "name": "stdout",
          "text": [
            "ある日の暮方の事である。\n",
            " 二人は二階の座敷へ上つて行くと、襖側、正面の両の襖にもたれて、夜な夜な談笑に花を咲かせていた。\n",
            "が、やがてそのうちに、その座敷の襖が一つ、やがて破れてしまつた。\n",
            "それは床の間に掛けられている紗の一枚で、下の名前は何と云うものだったか知らなかつた。\n",
            "二人はの間に、額縁とばかり重なり合つた懐中時計を見ては、夜長の電燈に戯れてゐた。\n"
          ]
        }
      ]
    }
  ]
}